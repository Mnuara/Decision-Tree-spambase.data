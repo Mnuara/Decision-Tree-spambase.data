{
 "cells": [
  {
   "cell_type": "code",
   "execution_count": 24,
   "metadata": {},
   "outputs": [],
   "source": [
    "%matplotlib inline\n",
    "import matplotlib.pyplot as plt\n",
    "import pandas\n",
    "data = pandas.read_csv(\"http://archive.ics.uci.edu/ml/machine-learning-databases/spambase/spambase.data\", header=None)"
   ]
  },
  {
   "cell_type": "code",
   "execution_count": 25,
   "metadata": {},
   "outputs": [],
   "source": [
    "import requests\n",
    "url = \"http://archive.ics.uci.edu/ml/machine-learning-databases/spambase/spambase.names\"\n",
    "text = requests.get(url).text"
   ]
  },
  {
   "cell_type": "code",
   "execution_count": 26,
   "metadata": {},
   "outputs": [],
   "source": [
    "names = []\n",
    "for line in text.split(\"\\r\\n\"):\n",
    "    if len(line) > 0:\n",
    "        if (line[0] != \"|\" and line[0] != \"1\"):\n",
    "            names.append(line.split(\":\")[0])\n",
    "names.append(\"spam/not\")"
   ]
  },
  {
   "cell_type": "code",
   "execution_count": 27,
   "metadata": {},
   "outputs": [],
   "source": [
    "data.columns = names"
   ]
  },
  {
   "cell_type": "code",
   "execution_count": 28,
   "metadata": {},
   "outputs": [],
   "source": [
    "features = data.iloc[:, : -2]\n",
    "response = data.iloc[:, -1 ]"
   ]
  },
  {
   "cell_type": "code",
   "execution_count": 29,
   "metadata": {},
   "outputs": [],
   "source": [
    "import numpy as np"
   ]
  },
  {
   "cell_type": "code",
   "execution_count": 30,
   "metadata": {},
   "outputs": [
    {
     "name": "stdout",
     "output_type": "stream",
     "text": [
      "[[0.000e+00 6.400e-01 6.400e-01 ... 0.000e+00 3.756e+00 6.100e+01]\n",
      " [2.100e-01 2.800e-01 5.000e-01 ... 4.800e-02 5.114e+00 1.010e+02]\n",
      " [6.000e-02 0.000e+00 7.100e-01 ... 1.000e-02 9.821e+00 4.850e+02]\n",
      " ...\n",
      " [3.000e-01 0.000e+00 3.000e-01 ... 0.000e+00 1.404e+00 6.000e+00]\n",
      " [9.600e-01 0.000e+00 0.000e+00 ... 0.000e+00 1.147e+00 5.000e+00]\n",
      " [0.000e+00 0.000e+00 6.500e-01 ... 0.000e+00 1.250e+00 5.000e+00]]\n",
      "\n",
      "[1 1 1 ... 0 0 0]\n"
     ]
    }
   ],
   "source": [
    "X = features.values\n",
    "Y = response.values\n",
    "print(X)\n",
    "print()\n",
    "print(Y)"
   ]
  },
  {
   "cell_type": "code",
   "execution_count": 31,
   "metadata": {},
   "outputs": [
    {
     "data": {
      "text/plain": [
       "4601"
      ]
     },
     "execution_count": 31,
     "metadata": {},
     "output_type": "execute_result"
    }
   ],
   "source": [
    "data.shape[0]"
   ]
  },
  {
   "cell_type": "code",
   "execution_count": 32,
   "metadata": {},
   "outputs": [
    {
     "data": {
      "text/plain": [
       "0.39404477287546186"
      ]
     },
     "execution_count": 32,
     "metadata": {},
     "output_type": "execute_result"
    }
   ],
   "source": [
    "(data.loc[data[\"spam/not\"] == 1].shape[0]) / data.shape[0]"
   ]
  },
  {
   "cell_type": "code",
   "execution_count": 33,
   "metadata": {},
   "outputs": [],
   "source": [
    "from sklearn.model_selection import train_test_split\n",
    "X_train, X_test, Y_train, Y_test = train_test_split(X, Y, test_size= 0.33, random_state=42)"
   ]
  },
  {
   "cell_type": "code",
   "execution_count": 34,
   "metadata": {},
   "outputs": [],
   "source": [
    "from sklearn.neighbors import KNeighborsClassifier\n",
    "from sklearn.preprocessing import scale\n",
    "from sklearn import metrics"
   ]
  },
  {
   "cell_type": "code",
   "execution_count": 35,
   "metadata": {},
   "outputs": [],
   "source": [
    "def Func(X_test, X_train, Y_train, Y_test, b, N):\n",
    "    DTree = KNeighborsClassifier(n_neighbors=N)\n",
    "    X_test_norm=scale(X_test)\n",
    "    X_train_norm=scale(X_train)\n",
    "    DTree.fit(X_train_norm, Y_train)\n",
    "    Y_pred = DTree.predict(X_test_norm)\n",
    "    Y_pred_proba = DTree.predict_proba(X_test_norm)[:,1] #1=spam\n",
    "    print(\"recall = \" + str(metrics.recall_score(Y_test, Y_pred)))\n",
    "    print(\"precision = \" + str(metrics.precision_score(Y_test, Y_pred)))\n",
    "    print(\"fbeta1 = \" + str(metrics.fbeta_score(Y_test, Y_pred, beta=b)))\n",
    "    print(\"accuracy = \" + str(metrics.accuracy_score(Y_test, Y_pred)))\n",
    "    fprTree, tprTree, thresholdsTree = metrics.roc_curve(Y_test, Y_pred_proba)\n",
    "    roc_aucTree = metrics.auc(fprTree, tprTree)\n",
    "    array=[fprTree, tprTree]\n",
    "    return array"
   ]
  },
  {
   "cell_type": "code",
   "execution_count": 36,
   "metadata": {},
   "outputs": [
    {
     "name": "stdout",
     "output_type": "stream",
     "text": [
      "1 neighbors, beta=0.5\n",
      "recall = 0.8672985781990521\n",
      "precision = 0.8897893030794165\n",
      "fbeta1 = 0.8851983231215738\n",
      "accuracy = 0.8999341672152732\n",
      "\n",
      "10 neighbors, beta=0.5\n",
      "recall = 0.8009478672985783\n",
      "precision = 0.9285714285714286\n",
      "fbeta1 = 0.8998935037273698\n",
      "accuracy = 0.89137590520079\n",
      "\n",
      "100 neighbors, beta=0.5\n",
      "recall = 0.7124802527646129\n",
      "precision = 0.9185336048879837\n",
      "fbeta1 = 0.8683095879861378\n",
      "accuracy = 0.8538512179065174\n",
      "\n",
      "1 neighbors, beta=2\n",
      "recall = 0.8672985781990521\n",
      "precision = 0.8897893030794165\n",
      "fbeta1 = 0.8717053032708797\n",
      "accuracy = 0.8999341672152732\n",
      "\n",
      "10 neighbors, beta=2\n",
      "recall = 0.8009478672985783\n",
      "precision = 0.9285714285714286\n",
      "fbeta1 = 0.8235867446393763\n",
      "accuracy = 0.89137590520079\n",
      "\n",
      "100 neighbors, beta=2\n",
      "recall = 0.7124802527646129\n",
      "precision = 0.9185336048879837\n",
      "fbeta1 = 0.7459477340390339\n",
      "accuracy = 0.8538512179065174\n"
     ]
    }
   ],
   "source": [
    "i=1\n",
    "j=10\n",
    "k=100\n",
    "print(str(i)+\" neighbors, beta=0.5\")\n",
    "f_b05_i=Func(X_test, X_train, Y_train, Y_test, 0.5, i)\n",
    "print()\n",
    "print(str(j)+\" neighbors, beta=0.5\")\n",
    "f_b05_j=Func(X_test, X_train, Y_train, Y_test, 0.5, j)\n",
    "print()\n",
    "print(str(k)+\" neighbors, beta=0.5\")\n",
    "f_b05_k=Func(X_test, X_train, Y_train, Y_test, 0.5, k)\n",
    "print()\n",
    "print(str(i)+\" neighbors, beta=2\")\n",
    "f_b2_i=Func(X_test, X_train, Y_train, Y_test, 2, i)\n",
    "print()\n",
    "print(str(j)+\" neighbors, beta=2\")\n",
    "f_b2_j=Func(X_test, X_train, Y_train, Y_test, 2, j)\n",
    "print()\n",
    "print(str(k)+\" neighbors, beta=2\")\n",
    "f_b2_k=Func(X_test, X_train, Y_train, Y_test, 2, k)"
   ]
  },
  {
   "cell_type": "code",
   "execution_count": 37,
   "metadata": {},
   "outputs": [
    {
     "data": {
      "image/png": "[encoded data removed]",
      "text/plain": [
       "<Figure size 432x288 with 1 Axes>"
      ]
     },
     "metadata": {
      "needs_background": "light"
     },
     "output_type": "display_data"
    }
   ],
   "source": [
    "plt.plot(f_b05_i[0], f_b05_i[1], label=str(i)+\" neighbors, beta=0.5\")\n",
    "plt.plot(f_b05_j[0], f_b05_j[1], label=str(j)+ \" neighbors, beta=0.5\")\n",
    "plt.plot(f_b05_k[0], f_b05_k[1], label=str(k)+\" neighbors, beta=0.5\")\n",
    "plt.plot(f_b2_i[0], f_b2_i[1], label=str(i)+\" neighbors, beta=2\")\n",
    "plt.plot(f_b2_j[0], f_b2_j[1], label=str(j)+\" neighbors, beta=2\")\n",
    "plt.plot(f_b2_k[0], f_b2_k[1], label=str(k)+\" neighbors, beta=2\")\n",
    "plt.legend(bbox_to_anchor=(1.05, 1), loc='upper left', borderaxespad=0.)\n",
    "plt.xlabel(\"FPR\")\n",
    "plt.ylabel(\"TPR\")\n",
    "plt.show()"
   ]
  },
  {
   "cell_type": "code",
   "execution_count": 38,
   "metadata": {},
   "outputs": [],
   "source": [
    "from sklearn.model_selection import GridSearchCV\n",
    "Dtree = KNeighborsClassifier()\n",
    "turned_parametersTree=[{\"n_neighbors\": np.arange(1,50), \n",
    "                        \"p\":[1,2], \n",
    "                        \"weights\":[\"uniform\",\"distance\"]}]\n",
    "gstree=GridSearchCV(Dtree, turned_parametersTree)"
   ]
  },
  {
   "cell_type": "code",
   "execution_count": 39,
   "metadata": {},
   "outputs": [
    {
     "name": "stderr",
     "output_type": "stream",
     "text": [
      "C:\\Users\\MI\\Anaconda3\\lib\\site-packages\\sklearn\\model_selection\\_split.py:1978: FutureWarning: The default value of cv will change from 3 to 5 in version 0.22. Specify it explicitly to silence this warning.\n",
      "  warnings.warn(CV_WARNING, FutureWarning)\n"
     ]
    },
    {
     "data": {
      "text/plain": [
       "GridSearchCV(cv='warn', error_score='raise-deprecating',\n",
       "             estimator=KNeighborsClassifier(algorithm='auto', leaf_size=30,\n",
       "                                            metric='minkowski',\n",
       "                                            metric_params=None, n_jobs=None,\n",
       "                                            n_neighbors=5, p=2,\n",
       "                                            weights='uniform'),\n",
       "             iid='warn', n_jobs=None,\n",
       "             param_grid=[{'n_neighbors': array([ 1,  2,  3,  4,  5,  6,  7,  8,  9, 10, 11, 12, 13, 14, 15, 16, 17,\n",
       "       18, 19, 20, 21, 22, 23, 24, 25, 26, 27, 28, 29, 30, 31, 32, 33, 34,\n",
       "       35, 36, 37, 38, 39, 40, 41, 42, 43, 44, 45, 46, 47, 48, 49]),\n",
       "                          'p': [1, 2], 'weights': ['uniform', 'distance']}],\n",
       "             pre_dispatch='2*n_jobs', refit=True, return_train_score=False,\n",
       "             scoring=None, verbose=0)"
      ]
     },
     "execution_count": 39,
     "metadata": {},
     "output_type": "execute_result"
    }
   ],
   "source": [
    "gstree.fit(X_train, Y_train)"
   ]
  },
  {
   "cell_type": "code",
   "execution_count": 40,
   "metadata": {},
   "outputs": [
    {
     "data": {
      "text/plain": [
       "{'n_neighbors': 6, 'p': 1, 'weights': 'distance'}"
      ]
     },
     "execution_count": 40,
     "metadata": {},
     "output_type": "execute_result"
    }
   ],
   "source": [
    "gstree.best_params_"
   ]
  }
 ],
 "metadata": {
  "kernelspec": {
   "display_name": "Python 3",
   "language": "python",
   "name": "python3"
  },
  "language_info": {
   "codemirror_mode": {
    "name": "ipython",
    "version": 3
   },
   "file_extension": ".py",
   "mimetype": "text/x-python",
   "name": "python",
   "nbconvert_exporter": "python",
   "pygments_lexer": "ipython3",
   "version": "3.7.3"
  }
 },
 "nbformat": 4,
 "nbformat_minor": 2
}
